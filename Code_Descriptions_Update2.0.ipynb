{
 "cells": [
  {
   "cell_type": "markdown",
   "metadata": {},
   "source": [
    "# House Prices in Argentina\n",
    "## Project Code and Descriptions\n",
    "### JonPaul Ferzacca & Joey Musholt"
   ]
  },
  {
   "cell_type": "markdown",
   "metadata": {},
   "source": [
    "### Importing necessary libraries"
   ]
  },
  {
   "cell_type": "code",
   "execution_count": 1,
   "metadata": {},
   "outputs": [],
   "source": [
    "import numpy as np\n",
    "import pandas as pd\n",
    "import datetime\n",
    "import matplotlib.pyplot as plt\n",
    "import seaborn as sns\n",
    "from geopy.distance import great_circle\n",
    "from sklearn.model_selection import train_test_split\n",
    "from sklearn.linear_model import LinearRegression\n",
    "from sklearn.impute import SimpleImputer\n",
    "from sklearn.metrics import mean_absolute_error, mean_squared_error, r2_score"
   ]
  },
  {
   "cell_type": "markdown",
   "metadata": {},
   "source": [
    "### Data Sets - ar_properties.csv & ars-usd.csv"
   ]
  },
  {
   "cell_type": "code",
   "execution_count": 2,
   "metadata": {},
   "outputs": [],
   "source": [
    "# Load the datasets\n",
    "data = pd.read_csv('/Users/jp_ferzacca/Data_Mining/ar_properties.csv')\n",
    "ars_usd = pd.read_csv('/Users/jp_ferzacca/Data_Mining/CSCI-4502_Data_Mining_Project/ars-usd.csv')"
   ]
  },
  {
   "cell_type": "markdown",
   "metadata": {},
   "source": [
    "### Data Exploration"
   ]
  },
  {
   "cell_type": "code",
   "execution_count": 3,
   "metadata": {},
   "outputs": [
    {
     "name": "stdout",
     "output_type": "stream",
     "text": [
      "Index(['id', 'ad_type', 'start_date', 'end_date', 'created_on', 'lat', 'lon',\n",
      "       'l1', 'l2', 'l3', 'l4', 'l5', 'l6', 'rooms', 'bedrooms', 'bathrooms',\n",
      "       'surface_total', 'surface_covered', 'price', 'currency', 'price_period',\n",
      "       'title', 'description', 'property_type', 'operation_type'],\n",
      "      dtype='object')\n",
      "                         id    ad_type  start_date    end_date  created_on  \\\n",
      "0  wdQ5hWhv8P14T7Sh9g4QCg==  Propiedad  2020-12-25  9999-12-31  2020-12-25   \n",
      "1  nnMBYZ4RMRY+vm753EtA+g==  Propiedad  2020-12-25  9999-12-31  2020-12-25   \n",
      "2  +dnVA1K6JxzL1zAjOEQ1pA==  Propiedad  2020-12-25  2020-12-29  2020-12-25   \n",
      "3  dLHXKN5/sRZpm9Yk0yI2nA==  Propiedad  2020-12-25  2020-12-29  2020-12-25   \n",
      "4  wtw/k887EPipd37UYHKb1Q==  Propiedad  2020-12-25  9999-12-31  2020-12-25   \n",
      "\n",
      "         lat        lon         l1                        l2        l3  ...  \\\n",
      "0 -32.716652 -68.642692  Argentina                   Mendoza       NaN  ...   \n",
      "1 -24.797723 -65.467514  Argentina                     Salta       NaN  ...   \n",
      "2 -34.919373 -58.020591  Argentina    Bs.As. G.B.A. Zona Sur  La Plata  ...   \n",
      "3 -34.919455 -58.024807  Argentina    Bs.As. G.B.A. Zona Sur  La Plata  ...   \n",
      "4 -34.364924 -58.783143  Argentina  Bs.As. G.B.A. Zona Norte   Escobar  ...   \n",
      "\n",
      "  bathrooms surface_total  surface_covered  price  currency  price_period  \\\n",
      "0       NaN         350.0            350.0    NaN       NaN           NaN   \n",
      "1       NaN        1541.0           1541.0    NaN       NaN       Mensual   \n",
      "2       NaN        1000.0           1000.0    NaN       NaN       Mensual   \n",
      "3       NaN        1000.0           1000.0    NaN       NaN       Mensual   \n",
      "4       NaN       18164.0          18164.0    NaN       NaN       Mensual   \n",
      "\n",
      "                                               title  \\\n",
      "0                     Excelentes Lotes Sobre Ruta 34   \n",
      "1  TERRENO + VENTA + JARDINES DE SAN LORENZO +150...   \n",
      "2               Lote en Venta de 1000 m2 en La Plata   \n",
      "3               Lote en Venta de 1000 m2 en La Plata   \n",
      "4                                 PANAMERICANA 47300   \n",
      "\n",
      "                                         description  property_type  \\\n",
      "0  Corredor Responsable: VICTOR E. MONTIVERO - C....           Lote   \n",
      "1  Corredor Responsable: Pablo Castañeda - C.U.C....           Lote   \n",
      "2  Corredor Responsable: Rico Sebastián - Martill...           Lote   \n",
      "3  Corredor Responsable: Rico Sebastián - Martill...           Lote   \n",
      "4  Nave principal 66 x 90 m:    6005 m2 cubiertos...           Otro   \n",
      "\n",
      "  operation_type  \n",
      "0          Venta  \n",
      "1          Venta  \n",
      "2          Venta  \n",
      "3          Venta  \n",
      "4          Venta  \n",
      "\n",
      "[5 rows x 25 columns]\n"
     ]
    }
   ],
   "source": [
    "# Initial Data Exploration\n",
    "print(data.columns)\n",
    "print(data.head())"
   ]
  },
  {
   "cell_type": "code",
   "execution_count": 4,
   "metadata": {},
   "outputs": [
    {
     "name": "stdout",
     "output_type": "stream",
     "text": [
      "id                       0\n",
      "ad_type                  0\n",
      "start_date               0\n",
      "end_date                 0\n",
      "created_on               0\n",
      "lat                 150811\n",
      "lon                 151745\n",
      "l1                       0\n",
      "l2                       0\n",
      "l3                   53327\n",
      "l4                  760504\n",
      "l5                  994999\n",
      "l6                 1000000\n",
      "rooms               473577\n",
      "bedrooms            533787\n",
      "bathrooms           223267\n",
      "surface_total       620499\n",
      "surface_covered     618549\n",
      "price                36902\n",
      "currency             38281\n",
      "price_period        636985\n",
      "title                    0\n",
      "description             18\n",
      "property_type            0\n",
      "operation_type           0\n",
      "dtype: int64\n"
     ]
    }
   ],
   "source": [
    "# Calculate the number of missing values in each column\n",
    "missing_values = data.isna().sum()\n",
    "# Print the number of missing values for each column\n",
    "print(missing_values)"
   ]
  },
  {
   "cell_type": "code",
   "execution_count": 5,
   "metadata": {},
   "outputs": [
    {
     "name": "stdout",
     "output_type": "stream",
     "text": [
      "Number of rows missing both 'surface_total' and 'surface_covered': 569991\n"
     ]
    }
   ],
   "source": [
    "# Count rows missing both 'surface_total' and 'surface_covered'\n",
    "missing_surface = data[data['surface_total'].isna() & data['surface_covered'].isna()]\n",
    "num_missing_surface = len(missing_surface)\n",
    "print(f\"Number of rows missing both 'surface_total' and 'surface_covered': {num_missing_surface}\")\n"
   ]
  },
  {
   "cell_type": "code",
   "execution_count": 6,
   "metadata": {},
   "outputs": [
    {
     "name": "stdout",
     "output_type": "stream",
     "text": [
      "Number of rows missing both 'rooms' and 'bedrooms': 417303\n",
      "Number of rows missing 'rooms', 'bedrooms', and 'bathrooms': 173330\n"
     ]
    }
   ],
   "source": [
    "# Count rows missing both 'rooms' and 'bedrooms'\n",
    "missing_rooms = data[data['rooms'].isna() & data['bedrooms'].isna()]\n",
    "num_missing_rooms = len(missing_rooms)\n",
    "print(f\"Number of rows missing both 'rooms' and 'bedrooms': {num_missing_rooms}\")\n",
    "\n",
    "# Count rows missing 'rooms', 'bedrooms', and 'bathrooms'\n",
    "missing_rooms_bedrooms_bathrooms = data[data['rooms'].isna() & data['bedrooms'].isna() & data['bathrooms'].isna()]\n",
    "num_missing_rooms_bedrooms_bathrooms = len(missing_rooms_bedrooms_bathrooms)\n",
    "\n",
    "print(f\"Number of rows missing 'rooms', 'bedrooms', and 'bathrooms': {num_missing_rooms_bedrooms_bathrooms}\")"
   ]
  },
  {
   "cell_type": "markdown",
   "metadata": {},
   "source": [
    "### Data Cleaning and Preproccessing"
   ]
  },
  {
   "cell_type": "code",
   "execution_count": 7,
   "metadata": {},
   "outputs": [
    {
     "name": "stdout",
     "output_type": "stream",
     "text": [
      "Original number of rows: 1000000\n",
      "Number of rows after removing missing/zero prices: 961581\n"
     ]
    }
   ],
   "source": [
    "# Remove rows where price is zero or NaN\n",
    "original_length = len(data)\n",
    "data = data[data['price'] > 0]\n",
    "cleaned_length = len(data)\n",
    "print(f\"Original number of rows: {original_length}\")\n",
    "print(f\"Number of rows after removing missing/zero prices: {cleaned_length}\")\n"
   ]
  },
  {
   "cell_type": "code",
   "execution_count": 8,
   "metadata": {},
   "outputs": [
    {
     "name": "stdout",
     "output_type": "stream",
     "text": [
      "Index(['start_date', 'end_date', 'created_on', 'lat', 'lon', 'l2', 'l3',\n",
      "       'rooms', 'bedrooms', 'bathrooms', 'surface_total', 'surface_covered',\n",
      "       'price', 'property_type', 'operation_type'],\n",
      "      dtype='object')\n"
     ]
    }
   ],
   "source": [
    "# Drop columns that are no longer needed or are identifiers\n",
    "columns_to_drop = ['id', 'ad_type', 'l1', 'l4', 'l5', 'l6', 'title', 'description', 'currency', 'price_period']\n",
    "\n",
    "# Check if each column in columns_to_drop exists in the DataFrame before dropping\n",
    "columns_to_drop = [col for col in columns_to_drop if col in data.columns]\n",
    "\n",
    "# Drop the columns\n",
    "data = data.drop(columns=columns_to_drop, axis=1)\n",
    "\n",
    "# Display the remaining columns to verify\n",
    "print(data.columns)"
   ]
  },
  {
   "cell_type": "code",
   "execution_count": 9,
   "metadata": {},
   "outputs": [],
   "source": [
    "# Remove rows where 'rooms', 'bedrooms', and 'bathrooms' are all missing\n",
    "data_cleaned = data.dropna(subset=['rooms', 'bedrooms', 'bathrooms'], how='all')"
   ]
  },
  {
   "cell_type": "code",
   "execution_count": 10,
   "metadata": {},
   "outputs": [
    {
     "name": "stdout",
     "output_type": "stream",
     "text": [
      "Original number of rows: 961581\n",
      "Number of rows after removal: 798510\n"
     ]
    }
   ],
   "source": [
    "# Display the shape of the new DataFrame to verify the rows were removed\n",
    "print(f\"Original number of rows: {len(data)}\")\n",
    "print(f\"Number of rows after removal: {len(data_cleaned)}\")"
   ]
  },
  {
   "cell_type": "code",
   "execution_count": 11,
   "metadata": {},
   "outputs": [
    {
     "name": "stdout",
     "output_type": "stream",
     "text": [
      "Processing column: start_date\n",
      "Processing column: end_date\n",
      "Processing column: created_on\n"
     ]
    }
   ],
   "source": [
    "# Function to filter valid dates\n",
    "def filter_valid_dates(data, column):\n",
    "    print(f\"Processing column: {column}\")\n",
    "    if column not in data.columns:\n",
    "        print(f\"Column {column} not found in DataFrame.\")\n",
    "        return data\n",
    "    data[column] = pd.to_datetime(data[column], errors='coerce')\n",
    "    return data.dropna(subset=[column])\n",
    "\n",
    "# Apply the function to date columns\n",
    "data = filter_valid_dates(data, 'start_date')\n",
    "data = filter_valid_dates(data, 'end_date')\n",
    "data = filter_valid_dates(data, 'created_on')"
   ]
  },
  {
   "cell_type": "code",
   "execution_count": 12,
   "metadata": {},
   "outputs": [],
   "source": [
    "# Convert latitude and longitude to float\n",
    "data.lat = data.lat.astype(float)\n",
    "data.lon = data.lon.astype(float)"
   ]
  },
  {
   "cell_type": "code",
   "execution_count": 13,
   "metadata": {},
   "outputs": [],
   "source": [
    "# Function to reformat date strings to datetime objects\n",
    "def reformat_dates(date_array):\n",
    "    dates_dict = {}\n",
    "    formatted_date = []\n",
    "    for date in date_array:\n",
    "        if date not in dates_dict:\n",
    "            try:\n",
    "                # Try converting the date, and use a placeholder if it fails\n",
    "                dates_dict[date] = pd.to_datetime(date)\n",
    "            except (pd._libs.tslibs.np_datetime.OutOfBoundsDatetime, OverflowError):\n",
    "                # Use a placeholder date such as '3/15/2021' or set to NaN\n",
    "                dates_dict[date] = pd.to_datetime('3/15/2021')  # or pd.NaT for missing time\n",
    "        formatted_date.append(dates_dict[date])\n",
    "    return formatted_date\n",
    "\n",
    "# Apply the function to date columns\n",
    "data.start_date = reformat_dates(data.start_date)\n",
    "data.end_date = reformat_dates(data.end_date)\n",
    "data.created_on = reformat_dates(data.created_on)\n",
    "ars_usd.date = reformat_dates(ars_usd.date)"
   ]
  },
  {
   "cell_type": "code",
   "execution_count": 14,
   "metadata": {},
   "outputs": [],
   "source": [
    "# Convert numeric columns from strings to floats\n",
    "numeric_features = ['rooms', 'bedrooms', 'bathrooms', 'surface_total', 'surface_covered', 'price']\n",
    "data[numeric_features] = data[numeric_features].astype(float)"
   ]
  },
  {
   "cell_type": "markdown",
   "metadata": {},
   "source": [
    "### Feature Engineering"
   ]
  },
  {
   "cell_type": "code",
   "execution_count": 15,
   "metadata": {},
   "outputs": [],
   "source": [
    "# Log Transformations\n",
    "\n",
    "# Fill NaN values in numeric features and ensure no negative values\n",
    "for feature in numeric_features:\n",
    "    data[feature] = data[feature].fillna(0).clip(lower=0)\n",
    "\n",
    "# Apply log transformation\n",
    "def apply_log_transform(data, features):\n",
    "    for feature in features:\n",
    "        data['log_' + feature] = np.log1p(data[feature])  # log1p is used to handle zero values\n",
    "    return data\n",
    "\n",
    "data = apply_log_transform(data, numeric_features)\n"
   ]
  },
  {
   "cell_type": "code",
   "execution_count": 16,
   "metadata": {},
   "outputs": [],
   "source": [
    "# Create date-related features\n",
    "data['listing_duration'] = (data['end_date'] - data['start_date']).dt.days  # Duration in days\n",
    "data['listing_age'] = (pd.Timestamp('today') - data['created_on']).dt.days  # Age in days from today"
   ]
  },
  {
   "cell_type": "code",
   "execution_count": 17,
   "metadata": {},
   "outputs": [],
   "source": [
    "# One-hot encoding of categorical variables\n",
    "categorical_features = ['property_type', 'operation_type']\n",
    "data = pd.get_dummies(data, columns=categorical_features)\n",
    "\n",
    "additional_categorical_features = ['l2', 'l3', ...]  # Add other categorical columns here\n",
    "for feature in additional_categorical_features:\n",
    "    if feature in data.columns:\n",
    "        data = pd.get_dummies(data, columns=[feature])"
   ]
  },
  {
   "cell_type": "code",
   "execution_count": 18,
   "metadata": {},
   "outputs": [],
   "source": [
    "# Calculate distance to a central point in Buenos Aires\n",
    "def calculate_distance(lat1, lon1, lat2, lon2):\n",
    "    if pd.isna(lat1) or pd.isna(lon1):\n",
    "        return np.nan  # or return some default value\n",
    "    return great_circle((lat1, lon1), (lat2, lon2)).kilometers\n",
    "\n",
    "central_point = (-34.6037, -58.3816)  # Coordinates of Buenos Aires central\n",
    "data['distance_to_central'] = data.apply(lambda row: calculate_distance(row['lat'], row['lon'], central_point[0], central_point[1]), axis=1)"
   ]
  },
  {
   "cell_type": "markdown",
   "metadata": {},
   "source": [
    "### Model Building"
   ]
  },
  {
   "cell_type": "code",
   "execution_count": 19,
   "metadata": {},
   "outputs": [],
   "source": [
    "# Convert datetime columns to numeric\n",
    "reference_date = pd.Timestamp('2023-01-01')  # Choose an appropriate reference date\n",
    "data['days_since_start'] = (data['start_date'] - reference_date).dt.days\n",
    "data['days_since_end'] = (data['end_date'] - reference_date).dt.days\n",
    "data['days_since_created'] = (data['created_on'] - reference_date).dt.days\n",
    "\n",
    "# Drop the original datetime columns\n",
    "data = data.drop(['start_date', 'end_date', 'created_on'], axis=1)"
   ]
  },
  {
   "cell_type": "code",
   "execution_count": 20,
   "metadata": {},
   "outputs": [],
   "source": [
    "# Separate numeric and categorical columns\n",
    "numeric_cols = data.select_dtypes(include=[np.number]).columns\n",
    "categorical_cols = data.select_dtypes(exclude=[np.number]).columns\n",
    "\n",
    "# Remove 'price' and 'log_price' from numeric_cols if present\n",
    "numeric_cols = [col for col in numeric_cols if col not in ['price', 'log_price']]\n",
    "\n",
    "# Splitting the dataset into training and testing sets\n",
    "X = data.drop(['price', 'log_price'], axis=1)  # Drop target variable and non-feature columns\n",
    "y = data['log_price']  # Assuming log_price is the target variable\n",
    "\n",
    "X_train, X_test, y_train, y_test = train_test_split(X, y, test_size=0.2, random_state=42)"
   ]
  },
  {
   "cell_type": "code",
   "execution_count": 21,
   "metadata": {},
   "outputs": [],
   "source": [
    "# Imputation for the entire dataset (numeric and categorical)\n",
    "imputer = SimpleImputer(strategy='median')\n",
    "X = data.drop(['price', 'log_price'], axis=1)  # Ensure X doesn't include target variable and non-feature columns\n",
    "X_imputed = imputer.fit_transform(X)\n",
    "\n",
    "# Convert boolean columns to integers for the entire dataset\n",
    "for col in X.columns:\n",
    "    if X[col].dtype == 'bool':\n",
    "        X[col] = X[col].astype(int)\n",
    "\n",
    "# Splitting the dataset into training and testing sets\n",
    "y = data['log_price']  # Assuming log_price is the target variable\n",
    "X_train, X_test, y_train, y_test = train_test_split(X_imputed, y, test_size=0.2, random_state=42)\n",
    "\n",
    "# Fitting the Linear Regression Model\n",
    "model = LinearRegression()\n",
    "model.fit(X_train, y_train)\n",
    "\n",
    "# Predicting on the test set\n",
    "y_pred = model.predict(X_test)\n"
   ]
  },
  {
   "cell_type": "markdown",
   "metadata": {},
   "source": [
    "### Model Evaluation"
   ]
  },
  {
   "cell_type": "code",
   "execution_count": 22,
   "metadata": {},
   "outputs": [
    {
     "name": "stdout",
     "output_type": "stream",
     "text": [
      "Mean Absolute Error (MAE): 0.6768588295130806\n",
      "Mean Squared Error (MSE): 1.0080951295549976\n",
      "R-squared (R²): 0.5062517425548707\n"
     ]
    }
   ],
   "source": [
    "\n",
    "mae = mean_absolute_error(y_test, y_pred)\n",
    "mse = mean_squared_error(y_test, y_pred)\n",
    "r2 = r2_score(y_test, y_pred)\n",
    "\n",
    "print(f\"Mean Absolute Error (MAE): {mae}\")\n",
    "print(f\"Mean Squared Error (MSE): {mse}\")\n",
    "print(f\"R-squared (R²): {r2}\")\n"
   ]
  },
  {
   "cell_type": "code",
   "execution_count": 23,
   "metadata": {},
   "outputs": [
    {
     "name": "stdout",
     "output_type": "stream",
     "text": [
      "Coefficients:\n",
      " const                  1.165277e-04\n",
      "lat                    3.448589e-02\n",
      "lon                   -2.088955e-02\n",
      "rooms                  3.419274e-02\n",
      "bedrooms               1.091814e-03\n",
      "bathrooms              2.934902e-01\n",
      "surface_total          1.035122e-05\n",
      "surface_covered        3.938042e-10\n",
      "log_rooms             -3.985399e-02\n",
      "log_bedrooms           5.673228e-02\n",
      "log_bathrooms         -6.487932e-02\n",
      "log_surface_total      1.917993e-02\n",
      "log_surface_covered   -9.654320e-03\n",
      "listing_duration      -5.675962e-03\n",
      "listing_age            2.889762e-02\n",
      "dtype: float64\n",
      "\n",
      "P-values:\n",
      " const                   0.000000e+00\n",
      "lat                     1.408543e-92\n",
      "lon                     2.027306e-24\n",
      "rooms                   8.678894e-45\n",
      "bedrooms                2.448840e-01\n",
      "bathrooms               0.000000e+00\n",
      "surface_total          4.903484e-102\n",
      "surface_covered         3.967332e-01\n",
      "log_rooms               2.107988e-08\n",
      "log_bedrooms            3.280916e-43\n",
      "log_bathrooms           1.336386e-13\n",
      "log_surface_total      4.586359e-111\n",
      "log_surface_covered     4.910636e-23\n",
      "listing_duration        0.000000e+00\n",
      "listing_age             0.000000e+00\n",
      "dtype: float64\n"
     ]
    }
   ],
   "source": [
    "import statsmodels.api as sm\n",
    "# Preparing data for statsmodels OLS\n",
    "imputer = SimpleImputer(strategy='median')\n",
    "X_imputed = imputer.fit_transform(X)  # X is the DataFrame without target variable\n",
    "\n",
    "# Convert the imputed array back to a DataFrame and retain column names\n",
    "X_imputed_df = pd.DataFrame(X_imputed, columns=X.columns)\n",
    "\n",
    "# Reset indices of X_imputed_df and y to ensure they are aligned\n",
    "X_imputed_df.reset_index(drop=True, inplace=True)\n",
    "y.reset_index(drop=True, inplace=True)\n",
    "\n",
    "# Add a constant to the DataFrame for statsmodels\n",
    "X_sm = sm.add_constant(X_imputed_df)\n",
    "\n",
    "# Fit the OLS model using statsmodels\n",
    "model_sm = sm.OLS(y, X_sm).fit()\n",
    "\n",
    "# Now you can use the actual column names\n",
    "columns_of_interest = ['const', 'lat', 'lon', 'rooms', 'bedrooms', 'bathrooms', 'surface_total', 'surface_covered', 'log_rooms', 'log_bedrooms', 'log_bathrooms', 'log_surface_total', 'log_surface_covered', 'listing_duration', 'listing_age']\n",
    "coefficients = model_sm.params.loc[columns_of_interest]\n",
    "p_values = model_sm.pvalues.loc[columns_of_interest]\n",
    "\n",
    "# Print coefficients and p-values\n",
    "print(\"Coefficients:\\n\", coefficients)\n",
    "print(\"\\nP-values:\\n\", p_values)\n"
   ]
  },
  {
   "cell_type": "markdown",
   "metadata": {},
   "source": [
    "#### Residuals Plot\n",
    "\n",
    "Purpose: This plot highlights the differences (residuals) between the actual and predicted values. A well-fitted model should have residuals randomly scattered around zero.\n",
    "Description: Points in the plot represent individual predictions. The X-axis shows the actual log prices, and the Y-axis represents the residuals. A horizontal line at zero acts as a reference to identify over and underestimations by the model."
   ]
  },
  {
   "cell_type": "code",
   "execution_count": 24,
   "metadata": {},
   "outputs": [
    {
     "data": {
      "image/png": "[encoded data removed]",
      "text/plain": [
       "<Figure size 640x480 with 1 Axes>"
      ]
     },
     "metadata": {},
     "output_type": "display_data"
    }
   ],
   "source": [
    "residuals = y_test - y_pred\n",
    "plt.scatter(y_test, residuals)\n",
    "plt.xlabel('Actual Log Prices')\n",
    "plt.ylabel('Residuals')\n",
    "plt.axhline(y=0, color='r', linestyle='-')\n",
    "plt.title('Residual Plot')\n",
    "plt.show()"
   ]
  },
  {
   "cell_type": "markdown",
   "metadata": {},
   "source": [
    "#### Prediction vs Actual Scatter Plot\n",
    "\n",
    "Purpose: To assess the accuracy of the model's predictions in comparison to the actual values.\n",
    "Description: Each point represents a property, with its actual log price on the X-axis and the predicted log price on the Y-axis. A diagonal line (45-degree) is drawn to represent a perfect prediction. The closer the points to this line, the more accurate the predictions. Deviations from this line indicate prediction errors."
   ]
  },
  {
   "cell_type": "code",
   "execution_count": 25,
   "metadata": {},
   "outputs": [
    {
     "data": {
      "image/png": "[encoded data removed]",
      "text/plain": [
       "<Figure size 640x480 with 1 Axes>"
      ]
     },
     "metadata": {},
     "output_type": "display_data"
    }
   ],
   "source": [
    "plt.scatter(y_test, y_pred)\n",
    "plt.xlabel('Actual Log Prices')\n",
    "plt.ylabel('Predicted Log Prices')\n",
    "plt.title('Actual vs Predicted Prices')\n",
    "plt.plot([y_test.min(), y_test.max()], [y_test.min(), y_test.max()], 'k--', lw=4)\n",
    "plt.show()"
   ]
  },
  {
   "cell_type": "markdown",
   "metadata": {},
   "source": [
    "#### Error Distribution Plot\n",
    "\n",
    "Purpose: To examine the distribution of prediction errors (residuals), checking for normality and identifying any biases in the model.\n",
    "Description: This histogram shows the frequency of different residual values, with a kernel density estimate (KDE) overlay providing a smooth distribution curve. The X-axis shows the residuals, while the Y-axis shows their frequency. An ideal plot should resemble a normal distribution centered around zero, indicating random errors."
   ]
  },
  {
   "cell_type": "code",
   "execution_count": 26,
   "metadata": {},
   "outputs": [
    {
     "name": "stderr",
     "output_type": "stream",
     "text": [
      "/Library/Frameworks/Python.framework/Versions/3.11/lib/python3.11/site-packages/seaborn/_oldcore.py:1119: FutureWarning: use_inf_as_na option is deprecated and will be removed in a future version. Convert inf values to NaN before operating instead.\n",
      "  with pd.option_context('mode.use_inf_as_na', True):\n"
     ]
    },
    {
     "data": {
      "image/png": "[encoded data removed]",
      "text/plain": [
       "<Figure size 640x480 with 1 Axes>"
      ]
     },
     "metadata": {},
     "output_type": "display_data"
    }
   ],
   "source": [
    "sns.histplot(residuals, kde=True)\n",
    "plt.xlabel('Residuals')\n",
    "plt.ylabel('Frequency')\n",
    "plt.title('Error Distribution')\n",
    "plt.show()"
   ]
  }
 ],
 "metadata": {
  "kernelspec": {
   "display_name": "Python 3",
   "language": "python",
   "name": "python3"
  },
  "language_info": {
   "codemirror_mode": {
    "name": "ipython",
    "version": 3
   },
   "file_extension": ".py",
   "mimetype": "text/x-python",
   "name": "python",
   "nbconvert_exporter": "python",
   "pygments_lexer": "ipython3",
   "version": "3.11.5"
  },
  "orig_nbformat": 4
 },
 "nbformat": 4,
 "nbformat_minor": 2
}
